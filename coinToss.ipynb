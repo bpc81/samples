{
 "cells": [
  {
   "cell_type": "markdown",
   "metadata": {},
   "source": [
    "## Coin Toss Streaks\n",
    "Ben Cook, January 2017"
   ]
  },
  {
   "cell_type": "code",
   "execution_count": 1,
   "metadata": {
    "collapsed": true
   },
   "outputs": [],
   "source": [
    "import itertools as it"
   ]
  },
  {
   "cell_type": "code",
   "execution_count": 4,
   "metadata": {
    "collapsed": true
   },
   "outputs": [],
   "source": [
    "import pandas as pd\n",
    "import numpy as np"
   ]
  },
  {
   "cell_type": "code",
   "execution_count": 2,
   "metadata": {
    "collapsed": true
   },
   "outputs": [],
   "source": [
    "pH = 0.6\n",
    "pT = 1.0 - pH\n"
   ]
  },
  {
   "cell_type": "markdown",
   "metadata": {},
   "source": [
    "### Construct all possible length-10 sequences"
   ]
  },
  {
   "cell_type": "code",
   "execution_count": 5,
   "metadata": {
    "collapsed": false
   },
   "outputs": [
    {
     "name": "stdout",
     "output_type": "stream",
     "text": [
      "      results\n",
      "0  HHHHHHHHHH\n",
      "1  THHHHHHHHH\n",
      "0  HTHHHHHHHH\n",
      "1  TTHHHHHHHH\n",
      "0  HHTHHHHHHH\n"
     ]
    },
    {
     "data": {
      "text/plain": [
       "1024"
      ]
     },
     "execution_count": 5,
     "metadata": {},
     "output_type": "execute_result"
    }
   ],
   "source": [
    "asdf = pd.Series(['H','T']).to_frame()\n",
    "asdf.columns = ['results']\n",
    "for _ in range(1,10):\n",
    "    asdf = pd.concat((asdf + 'H', asdf + 'T'))\n",
    "print asdf.head()\n",
    "len(asdf)"
   ]
  },
  {
   "cell_type": "code",
   "execution_count": 6,
   "metadata": {
    "collapsed": false
   },
   "outputs": [
    {
     "data": {
      "text/html": [
       "<div>\n",
       "<table border=\"1\" class=\"dataframe\">\n",
       "  <thead>\n",
       "    <tr style=\"text-align: right;\">\n",
       "      <th></th>\n",
       "      <th>results</th>\n",
       "      <th>first</th>\n",
       "      <th>last</th>\n",
       "    </tr>\n",
       "  </thead>\n",
       "  <tbody>\n",
       "    <tr>\n",
       "      <th>0</th>\n",
       "      <td>HHHHHHHHHH</td>\n",
       "      <td>H</td>\n",
       "      <td>H</td>\n",
       "    </tr>\n",
       "    <tr>\n",
       "      <th>1</th>\n",
       "      <td>THHHHHHHHH</td>\n",
       "      <td>T</td>\n",
       "      <td>H</td>\n",
       "    </tr>\n",
       "    <tr>\n",
       "      <th>0</th>\n",
       "      <td>HTHHHHHHHH</td>\n",
       "      <td>H</td>\n",
       "      <td>H</td>\n",
       "    </tr>\n",
       "    <tr>\n",
       "      <th>1</th>\n",
       "      <td>TTHHHHHHHH</td>\n",
       "      <td>T</td>\n",
       "      <td>H</td>\n",
       "    </tr>\n",
       "    <tr>\n",
       "      <th>0</th>\n",
       "      <td>HHTHHHHHHH</td>\n",
       "      <td>H</td>\n",
       "      <td>H</td>\n",
       "    </tr>\n",
       "  </tbody>\n",
       "</table>\n",
       "</div>"
      ],
      "text/plain": [
       "      results first last\n",
       "0  HHHHHHHHHH     H    H\n",
       "1  THHHHHHHHH     T    H\n",
       "0  HTHHHHHHHH     H    H\n",
       "1  TTHHHHHHHH     T    H\n",
       "0  HHTHHHHHHH     H    H"
      ]
     },
     "execution_count": 6,
     "metadata": {},
     "output_type": "execute_result"
    }
   ],
   "source": [
    "asdf['first'] = asdf.results.map(lambda s: s[0])\n",
    "asdf['last'] = asdf.results.map(lambda s: s[-1])\n",
    "asdf.head()"
   ]
  },
  {
   "cell_type": "code",
   "execution_count": 7,
   "metadata": {
    "collapsed": false
   },
   "outputs": [
    {
     "data": {
      "text/html": [
       "<div>\n",
       "<table border=\"1\" class=\"dataframe\">\n",
       "  <thead>\n",
       "    <tr style=\"text-align: right;\">\n",
       "      <th></th>\n",
       "      <th>results</th>\n",
       "      <th>first</th>\n",
       "      <th>last</th>\n",
       "      <th>nHeads</th>\n",
       "      <th>nTails</th>\n",
       "    </tr>\n",
       "  </thead>\n",
       "  <tbody>\n",
       "    <tr>\n",
       "      <th>0</th>\n",
       "      <td>HHHHHHHHHH</td>\n",
       "      <td>H</td>\n",
       "      <td>H</td>\n",
       "      <td>10</td>\n",
       "      <td>0</td>\n",
       "    </tr>\n",
       "    <tr>\n",
       "      <th>1</th>\n",
       "      <td>THHHHHHHHH</td>\n",
       "      <td>T</td>\n",
       "      <td>H</td>\n",
       "      <td>9</td>\n",
       "      <td>1</td>\n",
       "    </tr>\n",
       "    <tr>\n",
       "      <th>0</th>\n",
       "      <td>HTHHHHHHHH</td>\n",
       "      <td>H</td>\n",
       "      <td>H</td>\n",
       "      <td>9</td>\n",
       "      <td>1</td>\n",
       "    </tr>\n",
       "    <tr>\n",
       "      <th>1</th>\n",
       "      <td>TTHHHHHHHH</td>\n",
       "      <td>T</td>\n",
       "      <td>H</td>\n",
       "      <td>8</td>\n",
       "      <td>2</td>\n",
       "    </tr>\n",
       "    <tr>\n",
       "      <th>0</th>\n",
       "      <td>HHTHHHHHHH</td>\n",
       "      <td>H</td>\n",
       "      <td>H</td>\n",
       "      <td>9</td>\n",
       "      <td>1</td>\n",
       "    </tr>\n",
       "  </tbody>\n",
       "</table>\n",
       "</div>"
      ],
      "text/plain": [
       "      results first last  nHeads  nTails\n",
       "0  HHHHHHHHHH     H    H      10       0\n",
       "1  THHHHHHHHH     T    H       9       1\n",
       "0  HTHHHHHHHH     H    H       9       1\n",
       "1  TTHHHHHHHH     T    H       8       2\n",
       "0  HHTHHHHHHH     H    H       9       1"
      ]
     },
     "execution_count": 7,
     "metadata": {},
     "output_type": "execute_result"
    }
   ],
   "source": [
    "asdf['nHeads'] = asdf.results.map(lambda s: s.count('H'))\n",
    "asdf['nTails'] = asdf.results.map(lambda s: s.count('T'))\n",
    "asdf.head()"
   ]
  },
  {
   "cell_type": "code",
   "execution_count": 8,
   "metadata": {
    "collapsed": false
   },
   "outputs": [
    {
     "name": "stdout",
     "output_type": "stream",
     "text": [
      "1.0\n"
     ]
    },
    {
     "data": {
      "text/html": [
       "<div>\n",
       "<table border=\"1\" class=\"dataframe\">\n",
       "  <thead>\n",
       "    <tr style=\"text-align: right;\">\n",
       "      <th></th>\n",
       "      <th>results</th>\n",
       "      <th>first</th>\n",
       "      <th>last</th>\n",
       "      <th>nHeads</th>\n",
       "      <th>nTails</th>\n",
       "      <th>prob</th>\n",
       "    </tr>\n",
       "  </thead>\n",
       "  <tbody>\n",
       "    <tr>\n",
       "      <th>0</th>\n",
       "      <td>HHHHHHHHHH</td>\n",
       "      <td>H</td>\n",
       "      <td>H</td>\n",
       "      <td>10</td>\n",
       "      <td>0</td>\n",
       "      <td>0.006047</td>\n",
       "    </tr>\n",
       "    <tr>\n",
       "      <th>1</th>\n",
       "      <td>THHHHHHHHH</td>\n",
       "      <td>T</td>\n",
       "      <td>H</td>\n",
       "      <td>9</td>\n",
       "      <td>1</td>\n",
       "      <td>0.004031</td>\n",
       "    </tr>\n",
       "    <tr>\n",
       "      <th>0</th>\n",
       "      <td>HTHHHHHHHH</td>\n",
       "      <td>H</td>\n",
       "      <td>H</td>\n",
       "      <td>9</td>\n",
       "      <td>1</td>\n",
       "      <td>0.004031</td>\n",
       "    </tr>\n",
       "    <tr>\n",
       "      <th>1</th>\n",
       "      <td>TTHHHHHHHH</td>\n",
       "      <td>T</td>\n",
       "      <td>H</td>\n",
       "      <td>8</td>\n",
       "      <td>2</td>\n",
       "      <td>0.002687</td>\n",
       "    </tr>\n",
       "    <tr>\n",
       "      <th>0</th>\n",
       "      <td>HHTHHHHHHH</td>\n",
       "      <td>H</td>\n",
       "      <td>H</td>\n",
       "      <td>9</td>\n",
       "      <td>1</td>\n",
       "      <td>0.004031</td>\n",
       "    </tr>\n",
       "  </tbody>\n",
       "</table>\n",
       "</div>"
      ],
      "text/plain": [
       "      results first last  nHeads  nTails      prob\n",
       "0  HHHHHHHHHH     H    H      10       0  0.006047\n",
       "1  THHHHHHHHH     T    H       9       1  0.004031\n",
       "0  HTHHHHHHHH     H    H       9       1  0.004031\n",
       "1  TTHHHHHHHH     T    H       8       2  0.002687\n",
       "0  HHTHHHHHHH     H    H       9       1  0.004031"
      ]
     },
     "execution_count": 8,
     "metadata": {},
     "output_type": "execute_result"
    }
   ],
   "source": [
    "asdf['prob'] = np.power(0.6,asdf.nHeads) * np.power(0.4,asdf.nTails)\n",
    "print asdf.prob.sum()\n",
    "asdf.head()"
   ]
  },
  {
   "cell_type": "code",
   "execution_count": 9,
   "metadata": {
    "collapsed": false
   },
   "outputs": [
    {
     "data": {
      "text/html": [
       "<div>\n",
       "<table border=\"1\" class=\"dataframe\">\n",
       "  <thead>\n",
       "    <tr style=\"text-align: right;\">\n",
       "      <th></th>\n",
       "      <th>results</th>\n",
       "      <th>first</th>\n",
       "      <th>last</th>\n",
       "      <th>nHeads</th>\n",
       "      <th>nTails</th>\n",
       "      <th>prob</th>\n",
       "      <th>nStreaks</th>\n",
       "    </tr>\n",
       "  </thead>\n",
       "  <tbody>\n",
       "    <tr>\n",
       "      <th>0</th>\n",
       "      <td>HHHHHHHHHH</td>\n",
       "      <td>H</td>\n",
       "      <td>H</td>\n",
       "      <td>10</td>\n",
       "      <td>0</td>\n",
       "      <td>0.006047</td>\n",
       "      <td>1</td>\n",
       "    </tr>\n",
       "    <tr>\n",
       "      <th>1</th>\n",
       "      <td>THHHHHHHHH</td>\n",
       "      <td>T</td>\n",
       "      <td>H</td>\n",
       "      <td>9</td>\n",
       "      <td>1</td>\n",
       "      <td>0.004031</td>\n",
       "      <td>2</td>\n",
       "    </tr>\n",
       "    <tr>\n",
       "      <th>0</th>\n",
       "      <td>HTHHHHHHHH</td>\n",
       "      <td>H</td>\n",
       "      <td>H</td>\n",
       "      <td>9</td>\n",
       "      <td>1</td>\n",
       "      <td>0.004031</td>\n",
       "      <td>3</td>\n",
       "    </tr>\n",
       "    <tr>\n",
       "      <th>1</th>\n",
       "      <td>TTHHHHHHHH</td>\n",
       "      <td>T</td>\n",
       "      <td>H</td>\n",
       "      <td>8</td>\n",
       "      <td>2</td>\n",
       "      <td>0.002687</td>\n",
       "      <td>2</td>\n",
       "    </tr>\n",
       "    <tr>\n",
       "      <th>0</th>\n",
       "      <td>HHTHHHHHHH</td>\n",
       "      <td>H</td>\n",
       "      <td>H</td>\n",
       "      <td>9</td>\n",
       "      <td>1</td>\n",
       "      <td>0.004031</td>\n",
       "      <td>3</td>\n",
       "    </tr>\n",
       "  </tbody>\n",
       "</table>\n",
       "</div>"
      ],
      "text/plain": [
       "      results first last  nHeads  nTails      prob  nStreaks\n",
       "0  HHHHHHHHHH     H    H      10       0  0.006047         1\n",
       "1  THHHHHHHHH     T    H       9       1  0.004031         2\n",
       "0  HTHHHHHHHH     H    H       9       1  0.004031         3\n",
       "1  TTHHHHHHHH     T    H       8       2  0.002687         2\n",
       "0  HHTHHHHHHH     H    H       9       1  0.004031         3"
      ]
     },
     "execution_count": 9,
     "metadata": {},
     "output_type": "execute_result"
    }
   ],
   "source": [
    "iterLength = lambda iterator: sum((1 for _ in iterator))\n",
    "asdf['nStreaks'] = asdf.results.map(lambda s: iterLength(it.groupby(s)))\n",
    "asdf.head()"
   ]
  },
  {
   "cell_type": "markdown",
   "metadata": {},
   "source": [
    "#### Aggregate by number of streaks"
   ]
  },
  {
   "cell_type": "code",
   "execution_count": 46,
   "metadata": {
    "collapsed": false
   },
   "outputs": [
    {
     "name": "stdout",
     "output_type": "stream",
     "text": [
      "1 0.0061514752\n",
      "2 0.0235573248\n",
      "3 0.0942292992\n",
      "4 0.1696555008\n",
      "5 0.2544832512\n",
      "6 0.2252095488\n",
      "7 0.1501396992\n",
      "8 0.0599851008\n",
      "9 0.0149962752\n",
      "10 0.0015925248\n",
      "5.3200000000\n"
     ]
    }
   ],
   "source": [
    "byStreaks = asdf.groupby('nStreaks')\n",
    "for (n,group) in byStreaks:\n",
    "    print n, group.prob.sum()\n",
    "prob1 = sum((n*group.prob.sum() for (n,group) in byStreaks))\n",
    "print \"%0.10f\" %(prob1)"
   ]
  },
  {
   "cell_type": "markdown",
   "metadata": {},
   "source": [
    "#### probability of 6 or more streaks"
   ]
  },
  {
   "cell_type": "code",
   "execution_count": 48,
   "metadata": {
    "collapsed": false
   },
   "outputs": [
    {
     "name": "stdout",
     "output_type": "stream",
     "text": [
      "nStreaks\n",
      "7     0.150140\n",
      "8     0.059985\n",
      "9     0.014996\n",
      "10    0.001593\n",
      "Name: prob, dtype: float64\n",
      "0.2267136000\n"
     ]
    }
   ],
   "source": [
    "\n",
    "byStreaks = asdf.groupby(('nStreaks'))['prob'].sum()\n",
    "prob3 = byStreaks[6:]\n",
    "print prob3\n",
    "print \"%0.10f\" % (prob3.sum())"
   ]
  },
  {
   "cell_type": "markdown",
   "metadata": {},
   "source": [
    "#### Probability of >6 streaks given >5"
   ]
  },
  {
   "cell_type": "code",
   "execution_count": 44,
   "metadata": {
    "collapsed": false
   },
   "outputs": [
    {
     "name": "stdout",
     "output_type": "stream",
     "text": [
      "0.501664056382\n"
     ]
    }
   ],
   "source": [
    "# Problem 5\n",
    "print byStreaks[6:].sum() / byStreaks[5:].sum()"
   ]
  },
  {
   "cell_type": "markdown",
   "metadata": {},
   "source": [
    "#### Probability of 6 or more streaks & 6 or more heads"
   ]
  },
  {
   "cell_type": "code",
   "execution_count": 45,
   "metadata": {
    "collapsed": false
   },
   "outputs": [
    {
     "data": {
      "text/plain": [
       "0.23887872000000043"
      ]
     },
     "execution_count": 45,
     "metadata": {},
     "output_type": "execute_result"
    }
   ],
   "source": [
    "# Problem 7\n",
    "asdf['prob'][(asdf['nStreaks'] > 5) & (asdf['nHeads'] > 5)].sum()"
   ]
  },
  {
   "cell_type": "markdown",
   "metadata": {},
   "source": [
    "### Convert to a form to aggregate into longer sequences\n",
    "(brute-force solution grows exponentially in sequence length)"
   ]
  },
  {
   "cell_type": "code",
   "execution_count": 13,
   "metadata": {
    "collapsed": false
   },
   "outputs": [
    {
     "name": "stdout",
     "output_type": "stream",
     "text": [
      "  first last  nHeads  nStreaks      prob\n",
      "0     H    H       2         3  0.000236\n",
      "1     H    H       3         3  0.000708\n",
      "2     H    H       3         5  0.002123\n",
      "3     H    H       4         3  0.001593\n",
      "4     H    H       4         5  0.007963\n",
      "92\n"
     ]
    }
   ],
   "source": [
    "summary = asdf.drop('results',1).drop('nTails',1).groupby(('first','last','nHeads','nStreaks'), as_index=False).aggregate(np.sum)\n",
    "print summary.head()\n",
    "print len(summary)"
   ]
  },
  {
   "cell_type": "code",
   "execution_count": 14,
   "metadata": {
    "collapsed": false
   },
   "outputs": [],
   "source": [
    "def combine(row1,row2):\n",
    "    row1 = row1[1]\n",
    "    row2 = row2[1]\n",
    "    first = row1['first']\n",
    "#    first = row1[0]\n",
    "    last = row2['last']\n",
    "#    last = row2[0]\n",
    "    nHeads = row1['nHeads'] + row2['nHeads']\n",
    "#    nHeads = row1[2] + row2[2]\n",
    "    nStreaks = row1['nStreaks'] + row2['nStreaks']\n",
    "#    nStreaks = row1[3] + row2[3]\n",
    "    if row1['last'] == row2['first']:\n",
    "#    if row1[1] == row2[0]:\n",
    "        nStreaks -= 1\n",
    "    prob = row1.prob * row2.prob\n",
    "#    prob = row1[4] * row2[4]\n",
    "    return (first, last, nHeads, nStreaks, prob)\n",
    "\n",
    "def combineDict(row1,row2):\n",
    "    ans = dict()\n",
    "    ans['nHeads'] = row1.nHeads + row2.nHeads\n",
    "    nStreaks = row1.nStreaks + row2.nStreaks\n",
    "    if row1['last'] == row2['first']:\n",
    "        nStreaks -= 1\n",
    "    ans['nStreaks'] = nStreaks\n",
    "    ans['first'] = row1['first']\n",
    "    ans['last'] = row2['last']\n",
    "    ans['prob'] = row1.prob * row2.prob\n",
    "    return ans"
   ]
  },
  {
   "cell_type": "code",
   "execution_count": 16,
   "metadata": {
    "collapsed": false
   },
   "outputs": [
    {
     "name": "stdout",
     "output_type": "stream",
     "text": [
      "382\n"
     ]
    },
    {
     "data": {
      "text/html": [
       "<div>\n",
       "<table border=\"1\" class=\"dataframe\">\n",
       "  <thead>\n",
       "    <tr style=\"text-align: right;\">\n",
       "      <th></th>\n",
       "      <th>first</th>\n",
       "      <th>last</th>\n",
       "      <th>nHeads</th>\n",
       "      <th>nStreaks</th>\n",
       "      <th>prob</th>\n",
       "    </tr>\n",
       "  </thead>\n",
       "  <tbody>\n",
       "    <tr>\n",
       "      <th>0</th>\n",
       "      <td>H</td>\n",
       "      <td>H</td>\n",
       "      <td>2</td>\n",
       "      <td>3</td>\n",
       "      <td>2.473901e-08</td>\n",
       "    </tr>\n",
       "    <tr>\n",
       "      <th>1</th>\n",
       "      <td>H</td>\n",
       "      <td>H</td>\n",
       "      <td>3</td>\n",
       "      <td>3</td>\n",
       "      <td>7.421703e-08</td>\n",
       "    </tr>\n",
       "    <tr>\n",
       "      <th>2</th>\n",
       "      <td>H</td>\n",
       "      <td>H</td>\n",
       "      <td>3</td>\n",
       "      <td>5</td>\n",
       "      <td>5.937363e-07</td>\n",
       "    </tr>\n",
       "    <tr>\n",
       "      <th>3</th>\n",
       "      <td>H</td>\n",
       "      <td>H</td>\n",
       "      <td>4</td>\n",
       "      <td>3</td>\n",
       "      <td>1.669883e-07</td>\n",
       "    </tr>\n",
       "    <tr>\n",
       "      <th>4</th>\n",
       "      <td>H</td>\n",
       "      <td>H</td>\n",
       "      <td>4</td>\n",
       "      <td>5</td>\n",
       "      <td>2.504825e-06</td>\n",
       "    </tr>\n",
       "  </tbody>\n",
       "</table>\n",
       "</div>"
      ],
      "text/plain": [
       "  first last  nHeads  nStreaks          prob\n",
       "0     H    H       2         3  2.473901e-08\n",
       "1     H    H       3         3  7.421703e-08\n",
       "2     H    H       3         5  5.937363e-07\n",
       "3     H    H       4         3  1.669883e-07\n",
       "4     H    H       4         5  2.504825e-06"
      ]
     },
     "execution_count": 16,
     "metadata": {},
     "output_type": "execute_result"
    }
   ],
   "source": [
    "table20 = pd.DataFrame.from_records((combine(row1,row2)\n",
    "                                     for (row1,row2) in it.product(summary.iterrows(), summary.iterrows())),\n",
    "                                   columns= summary.columns)\n",
    "#table20 = pd.DataFrame.from_records((combine(row1,row2) for row1,row2 in it.product(summary,summary)))\n",
    "table20 = table20.groupby(('first','last','nHeads','nStreaks'), as_index=False).aggregate(np.sum)\n",
    "\n",
    "print len(table20)\n",
    "table20.head()"
   ]
  },
  {
   "cell_type": "code",
   "execution_count": 20,
   "metadata": {
    "collapsed": false
   },
   "outputs": [
    {
     "name": "stdout",
     "output_type": "stream",
     "text": [
      "1251\n",
      "   first last  nHeads  nStreaks          prob\n",
      "25     H    H       8        11  2.047278e-09\n",
      "26     H    H       8        13  3.685100e-09\n",
      "27     H    H       8        15  2.281252e-09\n",
      "31     H    H       9         9  1.320824e-09\n",
      "32     H    H       9        11  7.132451e-09\n",
      "0.999999961937\n",
      "Wall time: 12.5 s\n"
     ]
    }
   ],
   "source": [
    "%%time\n",
    "table40 = pd.DataFrame.from_records((combine(row1,row2)\n",
    "                                     for (row1,row2) in it.product(table20.iterrows(), table20.iterrows())),\n",
    "                                   columns= summary.columns)\n",
    "table40 = table40.groupby(('first','last','nHeads','nStreaks'), as_index=False).aggregate(np.sum)\n",
    "table40 = table40[table40['prob'] > 1e-9]\n",
    "\n",
    "print len(table40)\n",
    "print table40.head()\n",
    "print table40.prob.sum()"
   ]
  },
  {
   "cell_type": "code",
   "execution_count": 18,
   "metadata": {
    "collapsed": false
   },
   "outputs": [],
   "source": [
    "def aggregate(table1,table2):\n",
    "    table = pd.DataFrame.from_records((combine(row1,row2)\n",
    "                                      for (row1,row2) in it.product(table1.iterrows(), table2.iterrows())),\n",
    "                                     columns = summary.columns)\n",
    "    table = table.groupby(('first','last','nHeads','nStreaks'), as_index=False).aggregate(np.sum)\n",
    "    table = table[table['prob'] > 1e-9]\n",
    "    return table"
   ]
  },
  {
   "cell_type": "code",
   "execution_count": 23,
   "metadata": {
    "collapsed": false
   },
   "outputs": [
    {
     "name": "stdout",
     "output_type": "stream",
     "text": [
      "1701\n",
      "0.999999905101\n",
      "   first last  nHeads  nStreaks          prob\n",
      "23     H    H      12        15  1.173856e-09\n",
      "24     H    H      12        17  2.710016e-09\n",
      "25     H    H      12        19  3.447089e-09\n",
      "26     H    H      12        21  2.241784e-09\n",
      "31     H    H      13        15  3.672388e-09\n",
      "Wall time: 10 s\n"
     ]
    }
   ],
   "source": [
    "%%time\n",
    "table50 = aggregate(table40,summary)\n",
    "print len(table50)\n",
    "print table50.prob.sum()\n",
    "print table50.head()"
   ]
  },
  {
   "cell_type": "code",
   "execution_count": 24,
   "metadata": {
    "collapsed": false
   },
   "outputs": [
    {
     "name": "stdout",
     "output_type": "stream",
     "text": [
      "7770\n",
      "0.999996656153\n",
      "   first last  nHeads  nStreaks          prob\n",
      "65     H    H      84        95  1.301020e-09\n",
      "66     H    H      84        97  1.538681e-09\n",
      "67     H    H      84        99  1.591121e-09\n",
      "68     H    H      84       101  1.473276e-09\n",
      "69     H    H      84       103  1.191318e-09\n",
      "Wall time: 9min 29s\n"
     ]
    }
   ],
   "source": [
    "%%time\n",
    "table200 = reduce(aggregate, it.repeat(summary,20))\n",
    "print len(table200)\n",
    "print table200.prob.sum()\n",
    "print table200.head()"
   ]
  },
  {
   "cell_type": "code",
   "execution_count": 25,
   "metadata": {
    "collapsed": false
   },
   "outputs": [
    {
     "name": "stdout",
     "output_type": "stream",
     "text": [
      "3967\n",
      "0.999996656153\n",
      "   nHeads  nStreaks          prob\n",
      "0      83        93  1.033180e-09\n",
      "1      83        95  1.308270e-09\n",
      "2      83        97  1.496805e-09\n",
      "3      83        98  1.060768e-09\n",
      "4      83        99  1.566137e-09\n"
     ]
    }
   ],
   "source": [
    "summary200 = table200.drop('first',1).drop('last',1).groupby(('nHeads','nStreaks'),as_index=False).aggregate(np.sum)\n",
    "print len(summary200)\n",
    "print summary200.prob.sum()\n",
    "print summary200.head()"
   ]
  },
  {
   "cell_type": "markdown",
   "metadata": {},
   "source": [
    "#### Probability of exceeding 100 heads & 100 streaks in 200 tosses"
   ]
  },
  {
   "cell_type": "code",
   "execution_count": 29,
   "metadata": {
    "collapsed": false
   },
   "outputs": [
    {
     "name": "stdout",
     "output_type": "stream",
     "text": [
      "0.29295462316\n"
     ]
    }
   ],
   "source": [
    "prob8 = summary200[(summary200['nHeads'] > 100) & (summary200['nStreaks'] > 100)]\n",
    "print prob8.prob.sum()"
   ]
  },
  {
   "cell_type": "code",
   "execution_count": 33,
   "metadata": {
    "collapsed": true
   },
   "outputs": [],
   "source": [
    "def combineStreaks(row1,row2):\n",
    "    row1 = row1[1]\n",
    "    row2 = row2[1]\n",
    "    first = row1['first']\n",
    "    last = row2['last']\n",
    "    nStreaks = row1['nStreaks'] + row2['nStreaks']\n",
    "    if row1['last'] == row2['first']:\n",
    "        nStreaks -= 1\n",
    "    prob = row1.prob * row2.prob\n",
    "    return (first, last, nStreaks, prob)\n",
    "\n",
    "\n",
    "def aggregateStreaks(table1,table2):\n",
    "    table = pd.DataFrame.from_records((combineStreaks(row1,row2)\n",
    "                                      for (row1,row2) in it.product(table1.iterrows(), table2.iterrows())),\n",
    "                                     columns = ('first','last','nStreaks','prob'))\n",
    "    table = table.groupby(('first','last','nStreaks'), as_index=False).aggregate(np.sum)\n",
    "    table = table[table['prob'] > 1e-9]\n",
    "    return table"
   ]
  },
  {
   "cell_type": "code",
   "execution_count": 31,
   "metadata": {
    "collapsed": false
   },
   "outputs": [
    {
     "name": "stdout",
     "output_type": "stream",
     "text": [
      "20\n",
      "1.0\n",
      "  first last  nStreaks      prob\n",
      "0     H    H         1  0.006047\n",
      "1     H    H         3  0.073503\n",
      "2     H    H         5  0.175211\n",
      "3     H    H         7  0.096082\n",
      "4     H    H         9  0.009157\n"
     ]
    }
   ],
   "source": [
    "summaryStreaks = summary.drop('nHeads',1).groupby(('first','last','nStreaks'), as_index=False).aggregate(np.sum)\n",
    "print len(summaryStreaks)\n",
    "print summaryStreaks.prob.sum()\n",
    "print summaryStreaks.head()"
   ]
  },
  {
   "cell_type": "code",
   "execution_count": 34,
   "metadata": {
    "collapsed": false
   },
   "outputs": [
    {
     "name": "stdout",
     "output_type": "stream",
     "text": [
      "260\n",
      "0.999999859704\n",
      "  first last  nStreaks          prob\n",
      "2     H    H       175  1.818587e-09\n",
      "3     H    H       177  6.840524e-09\n",
      "4     H    H       179  1.950054e-08\n",
      "5     H    H       181  4.976351e-08\n",
      "6     H    H       183  1.201855e-07\n",
      "Wall time: 12.8 s\n"
     ]
    }
   ],
   "source": [
    "%%time\n",
    "table500 = reduce(aggregateStreaks, it.repeat(summaryStreaks,50))\n",
    "print len(table500)\n",
    "print table500.prob.sum()\n",
    "print table500.head()"
   ]
  },
  {
   "cell_type": "code",
   "execution_count": 39,
   "metadata": {
    "collapsed": false
   },
   "outputs": [
    {
     "name": "stdout",
     "output_type": "stream",
     "text": [
      "131\n",
      "0.999999859704\n",
      "   nStreaks          prob\n",
      "0       175  1.818587e-09\n",
      "1       176  3.809733e-09\n",
      "2       177  8.815147e-09\n",
      "3       178  1.334220e-08\n",
      "4       179  2.598568e-08\n"
     ]
    }
   ],
   "source": [
    "summary500 = table500.drop('first',1).drop('last',1).groupby('nStreaks',as_index=False).aggregate(np.sum)\n",
    "print len(summary500)\n",
    "print summary500.prob.sum()\n",
    "print summary500.head()"
   ]
  },
  {
   "cell_type": "markdown",
   "metadata": {},
   "source": [
    "#### Expected number of streaks in 500-length sequence"
   ]
  },
  {
   "cell_type": "code",
   "execution_count": 49,
   "metadata": {
    "collapsed": false
   },
   "outputs": [
    {
     "name": "stdout",
     "output_type": "stream",
     "text": [
      "240.5199658425\n"
     ]
    }
   ],
   "source": [
    "# Problem 2\n",
    "print \"%0.10f\" % ((summary500.nStreaks * summary500.prob).sum())"
   ]
  },
  {
   "cell_type": "markdown",
   "metadata": {},
   "source": [
    "#### Probability of exceeding 250 streaks"
   ]
  },
  {
   "cell_type": "code",
   "execution_count": 50,
   "metadata": {
    "collapsed": false
   },
   "outputs": [
    {
     "name": "stdout",
     "output_type": "stream",
     "text": [
      "nStreaks    15290.000000\n",
      "prob            0.194905\n",
      "dtype: float64\n",
      "0.1949047296\n"
     ]
    }
   ],
   "source": [
    "# Problem 4\n",
    "exceedance =  summary500[summary500['nStreaks'] > 250].sum()\n",
    "print exceedance\n",
    "print \"%0.10f\" % ( exceedance.prob)"
   ]
  },
  {
   "cell_type": "markdown",
   "metadata": {},
   "source": [
    "#### Probability of exceeding 250 streaks given >240"
   ]
  },
  {
   "cell_type": "code",
   "execution_count": 51,
   "metadata": {
    "collapsed": false
   },
   "outputs": [
    {
     "name": "stdout",
     "output_type": "stream",
     "text": [
      "nStreaks    0.861651\n",
      "prob        0.388488\n",
      "dtype: float64\n",
      "0.3884878991\n"
     ]
    }
   ],
   "source": [
    "# Problem 6\n",
    "exceedance = summary500[summary500['nStreaks'] > 250].sum() / summary500[summary500['nStreaks'] > 240].sum()\n",
    "print exceedance\n",
    "print \"%0.10f\" % ( exceedance.prob)"
   ]
  }
 ],
 "metadata": {
  "kernelspec": {
   "display_name": "Python 2",
   "language": "python",
   "name": "python2"
  },
  "language_info": {
   "codemirror_mode": {
    "name": "ipython",
    "version": 2
   },
   "file_extension": ".py",
   "mimetype": "text/x-python",
   "name": "python",
   "nbconvert_exporter": "python",
   "pygments_lexer": "ipython2",
   "version": "2.7.13"
  }
 },
 "nbformat": 4,
 "nbformat_minor": 2
}
