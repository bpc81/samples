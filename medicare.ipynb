{
 "cells": [
  {
   "cell_type": "code",
   "execution_count": 76,
   "metadata": {
    "collapsed": true
   },
   "outputs": [],
   "source": [
    "import pandas as pd\n",
    "\n",
    "import numpy as np"
   ]
  },
  {
   "cell_type": "code",
   "execution_count": 5,
   "metadata": {
    "collapsed": false
   },
   "outputs": [
    {
     "data": {
      "text/plain": [
       "Index([u'NPI', u'NPPES_PROVIDER_LAST_ORG_NAME', u'NPPES_PROVIDER_FIRST_NAME',\n",
       "       u'NPPES_PROVIDER_MI', u'NPPES_CREDENTIALS', u'NPPES_PROVIDER_GENDER',\n",
       "       u'NPPES_ENTITY_CODE', u'NPPES_PROVIDER_STREET1',\n",
       "       u'NPPES_PROVIDER_STREET2', u'NPPES_PROVIDER_CITY',\n",
       "       u'NPPES_PROVIDER_ZIP5', u'NPPES_PROVIDER_ZIP4', u'NPPES_PROVIDER_STATE',\n",
       "       u'NPPES_PROVIDER_COUNTRY', u'SPECIALTY_DESCRIPTION',\n",
       "       u'DESCRIPTION_FLAG', u'MEDICARE_PRVDR_ENROLL_STATUS', u'BENE_COUNT',\n",
       "       u'TOTAL_CLAIM_COUNT', u'TOTAL_DRUG_COST', u'TOTAL_DAY_SUPPLY',\n",
       "       u'BENE_COUNT_GE65', u'BENE_COUNT_GE65_SUPPRESS_FLAG',\n",
       "       u'TOTAL_CLAIM_COUNT_GE65', u'GE65_SUPPRESS_FLAG',\n",
       "       u'TOTAL_DRUG_COST_GE65', u'TOTAL_DAY_SUPPLY_GE65', u'BRAND_CLAIM_COUNT',\n",
       "       u'BRAND_SUPPRESS_FLAG', u'BRAND_DRUG_COST', u'GENERIC_CLAIM_COUNT',\n",
       "       u'GENERIC_SUPPRESS_FLAG', u'GENERIC_DRUG_COST', u'OTHER_CLAIM_COUNT',\n",
       "       u'OTHER_SUPPRESS_FLAG', u'OTHER_DRUG_COST', u'MAPD_CLAIM_COUNT',\n",
       "       u'MAPD_SUPPRESS_FLAG', u'MAPD_DRUG_COST', u'PDP_CLAIM_COUNT',\n",
       "       u'PDP_SUPPRESS_FLAG', u'PDP_DRUG_COST', u'LIS_CLAIM_COUNT',\n",
       "       u'LIS_SUPPRESS_FLAG', u'LIS_DRUG_COST', u'NONLIS_CLAIM_COUNT',\n",
       "       u'NONLIS_SUPPRESS_FLAG', u'NONLIS_DRUG_COST', u'OPIOID_BENE_COUNT',\n",
       "       u'OPIOID_CLAIM_COUNT', u'OPIOID_DRUG_COST', u'OPIOID_DAY_SUPPLY',\n",
       "       u'ANTIBIOTIC_BENE_COUNT', u'ANTIBIOTIC_CLAIM_COUNT',\n",
       "       u'ANTIBIOTIC_DRUG_COST', u'HRM_BENE_COUNT_GE65',\n",
       "       u'HRM_BENE_GE65_SUPPRESS_FLAG', u'HRM_CLAIM_COUNT_GE65',\n",
       "       u'HRM_GE65_SUPPRESS_FLAG', u'HRM_DRUG_COST_GE65',\n",
       "       u'ANTI_PSYCH_BENE_COUNT', u'ANTI_PSYCH_CLAIM_COUNT',\n",
       "       u'ANTI_PSYCH_DRUG_COST'],\n",
       "      dtype='object')"
      ]
     },
     "execution_count": 5,
     "metadata": {},
     "output_type": "execute_result"
    }
   ],
   "source": [
    "df = pd.read_csv('PartD_Prescriber_PUF_NPI_14.txt', delimiter='\\t')\n",
    "\n",
    "df.columns"
   ]
  },
  {
   "cell_type": "code",
   "execution_count": 10,
   "metadata": {
    "collapsed": false
   },
   "outputs": [
    {
     "data": {
      "text/plain": [
       "148.4730131955417"
      ]
     },
     "execution_count": 10,
     "metadata": {},
     "output_type": "execute_result"
    }
   ],
   "source": [
    "# Question 1\n",
    "df.BENE_COUNT.dropna().mean()"
   ]
  },
  {
   "cell_type": "code",
   "execution_count": 26,
   "metadata": {
    "collapsed": false
   },
   "outputs": [
    {
     "name": "stdout",
     "output_type": "stream",
     "text": [
      "29.1037983864\n"
     ]
    }
   ],
   "source": [
    "# Question 2\n",
    "\n",
    "avg_claim_length = df['TOTAL_DAY_SUPPLY'].astype('float') / df['TOTAL_CLAIM_COUNT']\n",
    "print avg_claim_length.dropna().median()\n"
   ]
  },
  {
   "cell_type": "code",
   "execution_count": 46,
   "metadata": {
    "collapsed": false,
    "scrolled": true
   },
   "outputs": [
    {
     "name": "stdout",
     "output_type": "stream",
     "text": [
      "123\n",
      "                       TOTAL_CLAIM_COUNT  BRAND_CLAIM_COUNT\n",
      "SPECIALTY_DESCRIPTION                                      \n",
      "Acupuncturist                       3852              884.0\n",
      "Addiction Medicine                101356            25173.0\n",
      "Allergy/Immunology               2034665           811506.0\n",
      "Anesthesiology                   3749631           577494.0\n",
      "Behavioral Analyst                  2464              561.0\n"
     ]
    }
   ],
   "source": [
    "# Question 3\n",
    "table = df[['SPECIALTY_DESCRIPTION', 'TOTAL_CLAIM_COUNT', 'BRAND_CLAIM_COUNT','BRAND_SUPPRESS_FLAG']]\n",
    "table = table[table['BRAND_CLAIM_COUNT'].notnull()]\n",
    "specialties = table.groupby('SPECIALTY_DESCRIPTION').aggregate(sum)\n",
    "specialties = specialties[specialties['TOTAL_CLAIM_COUNT'] >= 1000]\n",
    "print len(specialties)\n",
    "print specialties.head()"
   ]
  },
  {
   "cell_type": "code",
   "execution_count": 47,
   "metadata": {
    "collapsed": false
   },
   "outputs": [
    {
     "name": "stdout",
     "output_type": "stream",
     "text": [
      "0.0880682412859\n"
     ]
    }
   ],
   "source": [
    "brand_fraction = specialties['BRAND_CLAIM_COUNT'] / specialties['TOTAL_CLAIM_COUNT']\n",
    "print brand_fraction.std()"
   ]
  },
  {
   "cell_type": "code",
   "execution_count": 61,
   "metadata": {
    "collapsed": false
   },
   "outputs": [
    {
     "name": "stdout",
     "output_type": "stream",
     "text": [
      "NPPES_PROVIDER_STATE\n",
      "AA    0.564286\n",
      "AE    0.805024\n",
      "AK    0.917580\n",
      "AL    0.852258\n",
      "AP    0.807203\n",
      "dtype: float64\n",
      "1.47058823529 0.404761904762\n",
      "1.06582633053\n"
     ]
    }
   ],
   "source": [
    "# Question 4\n",
    "table = df[['NPPES_PROVIDER_STATE', 'OPIOID_BENE_COUNT', 'ANTIBIOTIC_BENE_COUNT']]\n",
    "table = table[table['OPIOID_BENE_COUNT'].notnull()]\n",
    "table = table[table['ANTIBIOTIC_BENE_COUNT'].notnull()]\n",
    "table2 = table.groupby('NPPES_PROVIDER_STATE').aggregate(sum)\n",
    "OP2AB_RATIO = table2['OPIOID_BENE_COUNT'] / table2['ANTIBIOTIC_BENE_COUNT']\n",
    "print OP2AB_RATIO.head()\n",
    "print OP2AB_RATIO.max(), OP2AB_RATIO.min()\n",
    "print OP2AB_RATIO.max() - OP2AB_RATIO.min()\n"
   ]
  },
  {
   "cell_type": "code",
   "execution_count": 67,
   "metadata": {
    "collapsed": false
   },
   "outputs": [
    {
     "name": "stdout",
     "output_type": "stream",
     "text": [
      "-0.663524876752\n"
     ]
    }
   ],
   "source": [
    "# Question 5\n",
    "table = df[['TOTAL_CLAIM_COUNT', 'TOTAL_CLAIM_COUNT_GE65', 'LIS_CLAIM_COUNT']].dropna(0)\n",
    "\n",
    "ge65_frac = table['TOTAL_CLAIM_COUNT_GE65'] / table['TOTAL_CLAIM_COUNT']\n",
    "lis_frac = table['LIS_CLAIM_COUNT'] / table['TOTAL_CLAIM_COUNT']\n",
    "\n",
    "print ge65_frac.corr(lis_frac,method='pearson')"
   ]
  },
  {
   "cell_type": "code",
   "execution_count": 114,
   "metadata": {
    "collapsed": false
   },
   "outputs": [
    {
     "name": "stdout",
     "output_type": "stream",
     "text": [
      "NPPES_PROVIDER_STATE  SPECIALTY_DESCRIPTION\n",
      "AA                    Dentist                  2\n",
      "                      Diagnostic Radiology     1\n",
      "                      Family Practice          1\n",
      "                      General Practice         1\n",
      "                      General Surgery          1\n",
      "dtype: int64\n"
     ]
    }
   ],
   "source": [
    "# Question 6\n",
    "table = df[['NPPES_PROVIDER_STATE', 'SPECIALTY_DESCRIPTION', 'OPIOID_DAY_SUPPLY', 'OPIOID_CLAIM_COUNT']].dropna(0)\n",
    "#print len(table)\n",
    "#print table.head()\n",
    "\n",
    "table['avg_len'] = table['OPIOID_DAY_SUPPLY'] / table['OPIOID_CLAIM_COUNT']\n",
    "table = table.drop('OPIOID_DAY_SUPPLY',1).drop('OPIOID_CLAIM_COUNT',1)\n",
    "op_by_state_spec = table.groupby(('NPPES_PROVIDER_STATE', 'SPECIALTY_DESCRIPTION'))\n",
    "state_spec_count = op_by_state_spec.size()\n",
    "print state_spec_count.head()"
   ]
  },
  {
   "cell_type": "code",
   "execution_count": 116,
   "metadata": {
    "collapsed": false
   },
   "outputs": [
    {
     "name": "stdout",
     "output_type": "stream",
     "text": [
      "Index([u'avg_len'], dtype='object')\n",
      "1079\n",
      "  NPPES_PROVIDER_STATE SPECIALTY_DESCRIPTION    avg_len\n",
      "0                   AK       Family Practice  21.893003\n",
      "1                   AK     Internal Medicine  20.940059\n",
      "2                   AK    Nurse Practitioner  21.692129\n",
      "3                   AK   Physician Assistant  16.446126\n",
      "4                   AL        Anesthesiology  24.443542\n"
     ]
    }
   ],
   "source": [
    "state_spec_avg = op_by_state_spec.aggregate(np.mean)\n",
    "print state_spec_avg.columns\n",
    "state_spec_avg = state_spec_avg[state_spec_count >= 100].reset_index()\n",
    "print len(state_spec_avg)\n",
    "print state_spec_avg.head()"
   ]
  },
  {
   "cell_type": "code",
   "execution_count": 128,
   "metadata": {
    "collapsed": false
   },
   "outputs": [
    {
     "name": "stdout",
     "output_type": "stream",
     "text": [
      "2.04039908783\n"
     ]
    }
   ],
   "source": [
    "# q6: across all states\n",
    "op_by_spec = table[['SPECIALTY_DESCRIPTION', 'avg_len']].groupby('SPECIALTY_DESCRIPTION',as_index=False).aggregate(np.mean)\n",
    "state_spec_with_nat = state_spec_avg.merge(op_by_spec,\n",
    "                     how='left',\n",
    "                     right_on='SPECIALTY_DESCRIPTION',\n",
    "                     left_on='SPECIALTY_DESCRIPTION',\n",
    "                     suffixes=['','_allstates'])\n",
    "state_spec_with_nat['normalized_ratio'] = state_spec_with_nat['avg_len'] / state_spec_with_nat['avg_len_allstates']\n",
    "#print state_spec_with_nat.head()\n",
    "print state_spec_with_nat['normalized_ratio'].max()\n"
   ]
  },
  {
   "cell_type": "code",
   "execution_count": 129,
   "metadata": {
    "collapsed": false
   },
   "outputs": [
    {
     "name": "stderr",
     "output_type": "stream",
     "text": [
      "C:\\Anaconda2\\lib\\site-packages\\IPython\\core\\interactiveshell.py:2717: DtypeWarning: Columns (10) have mixed types. Specify dtype option on import or set low_memory=False.\n",
      "  interactivity=interactivity, compiler=compiler, result=result)\n"
     ]
    },
    {
     "data": {
      "text/plain": [
       "Index([u'NPI', u'NPPES_PROVIDER_LAST_ORG_NAME', u'NPPES_PROVIDER_FIRST_NAME',\n",
       "       u'NPPES_PROVIDER_MI', u'NPPES_CREDENTIALS', u'NPPES_PROVIDER_GENDER',\n",
       "       u'NPPES_ENTITY_CODE', u'NPPES_PROVIDER_STREET1',\n",
       "       u'NPPES_PROVIDER_STREET2', u'NPPES_PROVIDER_CITY',\n",
       "       u'NPPES_PROVIDER_ZIP', u'NPPES_PROVIDER_STATE',\n",
       "       u'NPPES_PROVIDER_COUNTRY', u'SPECIALTY_DESC', u'DESCRIPTION_FLAG',\n",
       "       u'BENE_COUNT', u'TOTAL_CLAIM_COUNT', u'TOTAL_DRUG_COST',\n",
       "       u'TOTAL_DAY_SUPPLY', u'BENE_COUNT_GE65', u'BENE_COUNT_GE65_REDACT_FLAG',\n",
       "       u'TOTAL_CLAIM_COUNT_GE65', u'GE65_REDACT_FLAG', u'TOTAL_DRUG_COST_GE65',\n",
       "       u'TOTAL_DAY_SUPPLY_GE65', u'BRAND_CLAIM_COUNT', u'BRAND_REDACT_FLAG',\n",
       "       u'BRAND_CLAIM_COST', u'GENERIC_CLAIM_COUNT', u'GENERIC_REDACT_FLAG',\n",
       "       u'GENERIC_CLAIM_COST', u'OTHER_CLAIM_COUNT', u'OTHER_REDACT_FLAG',\n",
       "       u'OTHER_CLAIM_COST', u'MAPD_CLAIM_COUNT', u'MAPD_REDACT_FLAG',\n",
       "       u'MAPD_CLAIM_COST', u'PDP_CLAIM_COUNT', u'PDP_REDACT_FLAG',\n",
       "       u'PDP_CLAIM_COST', u'LIS_CLAIM_COUNT', u'LIS_REDACT_FLAG',\n",
       "       u'LIS_CLAIM_COST', u'NONLIS_CLAIM_COUNT', u'NONLIS_REDACT_FLAG',\n",
       "       u'NONLIS_CLAIM_COST'],\n",
       "      dtype='object')"
      ]
     },
     "execution_count": 129,
     "metadata": {},
     "output_type": "execute_result"
    }
   ],
   "source": [
    "# 2013 data\n",
    "df13 = pd.read_csv('PartD_Prescriber_PUF_NPI_13.tab', delimiter='\\t')\n",
    "\n",
    "df13.columns"
   ]
  },
  {
   "cell_type": "code",
   "execution_count": 143,
   "metadata": {
    "collapsed": false
   },
   "outputs": [
    {
     "name": "stdout",
     "output_type": "stream",
     "text": [
      "970492\n",
      "          NPI  cost_per_day_13  cost_per_day_14  inflation\n",
      "0  1518048750         2.224526         3.365580   1.512942\n",
      "1  1952310666         3.016262         3.672300   1.217500\n",
      "2  1467482471         2.115574         0.606025   0.286459\n",
      "3  1801093968         1.877858         2.472467   1.316642\n",
      "4  1588763981         1.077026         1.111436   1.031949\n",
      "1.24451835244\n",
      "1.02428470098\n"
     ]
    }
   ],
   "source": [
    "# Question 7\n",
    "\n",
    "table13 = df13[['NPI', 'TOTAL_DRUG_COST', 'TOTAL_DAY_SUPPLY']].dropna(1)\n",
    "#print table13.head()\n",
    "table13['cost_per_day_13'] = table13['TOTAL_DRUG_COST'] / table13['TOTAL_DAY_SUPPLY']\n",
    "#print table13.drop('TOTAL_DRUG_COST',1).drop('TOTAL_DAY_SUPPLY',1).head()\n",
    "table13.drop(['TOTAL_DRUG_COST', 'TOTAL_DAY_SUPPLY'],1,inplace=True)\n",
    "\n",
    "table14 = df[['NPI', 'TOTAL_DRUG_COST', 'TOTAL_DAY_SUPPLY']].dropna(1)\n",
    "table14['cost_per_day_14'] = table14['TOTAL_DRUG_COST'] / table14['TOTAL_DAY_SUPPLY']\n",
    "table14.drop(['TOTAL_DRUG_COST', 'TOTAL_DAY_SUPPLY'],1,inplace=True)\n",
    "\n",
    "combined = table13.merge(table14,left_on='NPI', right_on='NPI', how='inner')\n",
    "combined['inflation'] = combined['cost_per_day_14'] / combined['cost_per_day_13']\n",
    "print len(combined)\n",
    "print combined.head()\n",
    "print combined.inflation.mean()\n",
    "print combined.inflation.median()"
   ]
  },
  {
   "cell_type": "code",
   "execution_count": 145,
   "metadata": {
    "collapsed": false
   },
   "outputs": [
    {
     "name": "stdout",
     "output_type": "stream",
     "text": [
      "970492\n",
      "          NPI      SPECIALTY_DESC SPECIALTY_DESCRIPTION\n",
      "0  1518048750  Pediatric Medicine    Pediatric Medicine\n",
      "1  1952310666          Psychiatry            Psychiatry\n",
      "2  1467482471             Dentist               Dentist\n",
      "3  1801093968  Emergency Medicine    Emergency Medicine\n",
      "4  1588763981             Urology               Urology\n"
     ]
    }
   ],
   "source": [
    "# Question 8\n",
    "table13 = df13[['NPI', 'SPECIALTY_DESC']].dropna(1)\n",
    "table14 = df[['NPI', 'SPECIALTY_DESCRIPTION']].dropna(1)\n",
    "specialties = table13.merge(table14,how='inner',left_on='NPI',right_on='NPI')\n",
    "print len(specialties)\n",
    "print specialties.head()"
   ]
  },
  {
   "cell_type": "code",
   "execution_count": 161,
   "metadata": {
    "collapsed": false
   },
   "outputs": [
    {
     "name": "stdout",
     "output_type": "stream",
     "text": [
      "SPECIALTY_DESC\n",
      "Allergy/Immunology           0.019603\n",
      "Anesthesiology               0.044754\n",
      "Cardiac Electrophysiology    0.048411\n",
      "Cardiac Surgery              0.088031\n",
      "Cardiology                   0.035582\n",
      "dtype: float64\n",
      "SPECIALTY_DESC\n",
      "Student in an Organized Health Care Education/Training Program    0.275951\n",
      "Orthopaedic Surgery                                               0.208354\n",
      "Psychiatry & Neurology                                            0.156195\n",
      "Neuropsychiatry                                                   0.146896\n",
      "Geriatric Medicine                                                0.127205\n",
      "dtype: float64\n",
      "0.275951086957\n"
     ]
    }
   ],
   "source": [
    "specialties['changed'] = specialties['SPECIALTY_DESC'] != specialties['SPECIALTY_DESCRIPTION']\n",
    "nChanged = specialties[['SPECIALTY_DESC', 'changed']].groupby('SPECIALTY_DESC').aggregate(sum)\n",
    "count = specialties.groupby('SPECIALTY_DESC').size()\n",
    "\n",
    "ans = nChanged[count >= 1000].changed / count[count >= 1000]\n",
    "\n",
    "print ans.head()\n",
    "print ans.nlargest(5)\n",
    "print ans.max()"
   ]
  },
  {
   "cell_type": "code",
   "execution_count": 162,
   "metadata": {
    "collapsed": false
   },
   "outputs": [
    {
     "name": "stdout",
     "output_type": "stream",
     "text": [
      "0.208353569694\n"
     ]
    }
   ],
   "source": [
    "print ans['Orthopaedic Surgery']"
   ]
  }
 ],
 "metadata": {
  "kernelspec": {
   "display_name": "Python 2",
   "language": "python",
   "name": "python2"
  },
  "language_info": {
   "codemirror_mode": {
    "name": "ipython",
    "version": 2
   },
   "file_extension": ".py",
   "mimetype": "text/x-python",
   "name": "python",
   "nbconvert_exporter": "python",
   "pygments_lexer": "ipython2",
   "version": "2.7.13"
  }
 },
 "nbformat": 4,
 "nbformat_minor": 2
}
